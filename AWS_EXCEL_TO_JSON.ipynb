{
  "nbformat": 4,
  "nbformat_minor": 0,
  "metadata": {
    "colab": {
      "provenance": [],
      "authorship_tag": "ABX9TyMxTenarIxh51JiTZklUAhR",
      "include_colab_link": true
    },
    "kernelspec": {
      "name": "python3",
      "display_name": "Python 3"
    },
    "language_info": {
      "name": "python"
    }
  },
  "cells": [
    {
      "cell_type": "markdown",
      "metadata": {
        "id": "view-in-github",
        "colab_type": "text"
      },
      "source": [
        "<a href=\"https://colab.research.google.com/github/PrateekKumar135/AWS/blob/main/AWS_EXCEL_TO_JSON.ipynb\" target=\"_parent\"><img src=\"https://colab.research.google.com/assets/colab-badge.svg\" alt=\"Open In Colab\"/></a>"
      ]
    },
    {
      "cell_type": "code",
      "execution_count": null,
      "metadata": {
        "id": "LKvikrqKMJar"
      },
      "outputs": [],
      "source": [
        "import json\n",
        "import boto3\n",
        "import pandas as pd\n",
        "from io import BytesIO\n",
        "\n",
        "# Initialize the S3 client\n",
        "s3 = boto3.client('s3')\n",
        "\n",
        "def lambda_handler(event, context):\n",
        "    # S3 bucket details\n",
        "    bucket_name = 'dev-repair-builder'  # Replace with your S3 bucket name\n",
        "    file_key = 'PRATEEK/demo.xlsx'  # Replace with your file key\n",
        "\n",
        "    try:\n",
        "        # Fetch file from S3\n",
        "        response = s3.get_object(Bucket=bucket_name, Key=file_key)\n",
        "        file_content = response['Body'].read()\n",
        "\n",
        "        # Read the Excel file into a Pandas DataFrame\n",
        "        excel_data = pd.read_excel(BytesIO(file_content), engine='openpyxl')\n",
        "\n",
        "        # Convert DataFrame to JSON\n",
        "        json_data = excel_data.to_json(orient='records')\n",
        "\n",
        "        # Return response in API Gateway format\n",
        "        return {\n",
        "            \"statusCode\": 200,\n",
        "            \"headers\": {\n",
        "                \"Content-Type\": \"application/json\",\n",
        "                \"Access-Control-Allow-Origin\": \"*\"  # Enable CORS for public API\n",
        "            },\n",
        "            \"body\": json_data\n",
        "        }\n",
        "\n",
        "    except Exception as e:\n",
        "        return {\n",
        "            \"statusCode\": 500,\n",
        "            \"headers\": {\n",
        "                \"Content-Type\": \"application/json\"\n",
        "            },\n",
        "            \"body\": json.dumps({'error': str(e)})\n",
        "        }\n"
      ]
    }
  ]
}